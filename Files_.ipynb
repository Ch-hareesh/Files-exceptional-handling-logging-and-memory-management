{
  "cells": [
    {
      "cell_type": "markdown",
      "metadata": {
        "id": "-NR6z7ugwxfw"
      },
      "source": [
        "## THEORY QUESTIONS"
      ]
    },
    {
      "cell_type": "markdown",
      "metadata": {
        "id": "7107df89"
      },
      "source": [
        "#### **1. What is the difference between interpreted and compiled languages**\n"
      ]
    },
    {
      "cell_type": "markdown",
      "metadata": {
        "id": "Wo9__P80ruzh"
      },
      "source": [
        "**Interpreted languages:** Code is executed line by line by an interpreter. Examples include Python, JavaScript, and Ruby.\n",
        "- Easier to debug and more flexible.\n",
        "- It's execution is slower and requires an interpreter on the target machine.\n",
        "\n",
        "**Compiled languages:** Code is translated into machine code by a compiler before execution. Examples include C, C++, and Java.\n",
        "- Faster execution, can be run without a separate interpreter.\n",
        "- It's More difficult to debug and less flexible."
      ]
    },
    {
      "cell_type": "markdown",
      "metadata": {
        "id": "b99e6318"
      },
      "source": [
        "#### **2. What is exception handling in Python**"
      ]
    },
    {
      "cell_type": "markdown",
      "metadata": {
        "id": "-mj7-DZBrirm"
      },
      "source": [
        "- Exception handling in Python is a mechanism that allows you to deal with errors and unexpected events that occur during the execution of a program. When an error occurs, Python raises an **exception**.\n",
        "- Without proper handling, this exception would stop the program's execution and display an error message.\n",
        "- Exception handling allows us to gracefully manage these errors, prevent the program from crashing, and provide meaningful feedback to the user or log the error for debugging.\n",
        "- It primarily uses `try`, `except`, `else`, and `finally` blocks to achieve this."
      ]
    },
    {
      "cell_type": "markdown",
      "metadata": {
        "id": "c0224b41"
      },
      "source": [
        "#### **3. What is the purpose of the finally block in exception handling**\n",
        "\n"
      ]
    },
    {
      "cell_type": "markdown",
      "metadata": {
        "id": "GVpgsK7UryzX"
      },
      "source": [
        "- The `finally` block in exception handling is used to define actions that must be executed regardless of whether an exception occurred or not. This is typically used for clean-up operations, such as closing files or releasing resources, ensuring they are performed even if an error interrupts the normal flow of the `try` or `except` blocks."
      ]
    },
    {
      "cell_type": "markdown",
      "metadata": {
        "id": "dead3b94"
      },
      "source": [
        "#### **4. What is logging in Python**\n"
      ]
    },
    {
      "cell_type": "markdown",
      "metadata": {
        "id": "NF13Wd5ir1so"
      },
      "source": [
        "- Logging in Python is a built-in mechanism for recording events that happen while a program runs. These events can be errors, warnings, informational messages, or debugging details.\n",
        "- Logging is crucial for understanding how a program behaves, identifying issues, and monitoring its performance in various environments.\n",
        "- The `logging` module provides a flexible framework for directing these messages to different outputs like the console, files, or network sockets."
      ]
    },
    {
      "cell_type": "markdown",
      "metadata": {
        "id": "c952e590"
      },
      "source": [
        "#### **5. What is the significance of the __del__ method in Python**\n",
        "\n"
      ]
    },
    {
      "cell_type": "markdown",
      "metadata": {
        "id": "q6tHCbFjsC88"
      },
      "source": [
        "- The `__del__` method, also known as the destructor, is a special method in Python classes that is called when an object is about to be destroyed or garbage collected.\n",
        "- Its significance lies in allowing objects to perform cleanup operations before they are removed from memory, such as closing connections, releasing external resources, or performing finalization tasks.\n",
        "- However, the exact timing of garbage collection is not guaranteed, so `__del__` should not be solely relied upon for critical resource management; context managers (`with` statement) are often preferred for this purpose."
      ]
    },
    {
      "cell_type": "markdown",
      "metadata": {
        "id": "7d6007c0"
      },
      "source": [
        "#### **6. What is the difference between import and from ... import in Python**\n",
        "\n"
      ]
    },
    {
      "cell_type": "markdown",
      "metadata": {
        "id": "5sVgx6cLsLSL"
      },
      "source": [
        "- **`import module_name`**: This imports the entire module. We access objects (functions, classes, variables) within the module using `module_name.object_name`. This is generally preferred as it avoids naming conflicts if we import multiple modules with objects having the same name.\n",
        "- **`from module_name import object_name`**: This imports only a specific object (or multiple objects separated by commas) from the module directly into the current namespace. We can then use `object_name` directly without the module prefix. While this can make code shorter, it can lead to naming conflicts if we import objects with the same name from different modules."
      ]
    },
    {
      "cell_type": "markdown",
      "metadata": {
        "id": "69529466"
      },
      "source": [
        "#### **7. How can you handle multiple exceptions in Python**\n",
        "\n"
      ]
    },
    {
      "cell_type": "markdown",
      "metadata": {
        "id": "chY6yZQAsN8b"
      },
      "source": [
        "- We can handle multiple exceptions in Python using multiple `except` blocks following a `try` block. Each `except` block can specify a different exception type to handle.\n",
        "- We can also handle multiple exceptions with a single `except` block by providing a tuple of exception types."
      ]
    },
    {
      "cell_type": "markdown",
      "metadata": {
        "id": "05df90fa"
      },
      "source": [
        "#### **8. What is the purpose of the with statement when handling files in Python**\n",
        "\n"
      ]
    },
    {
      "cell_type": "markdown",
      "metadata": {
        "id": "VUrKnhcXsoyn"
      },
      "source": [
        "- The `with` statement in Python is primarily used for resource management, particularly with files. Its purpose is to ensure that resources, such as files, are properly acquired and released.\n",
        "- When used with file handling, the `with` statement automatically handles the closing of the file, even if errors occur during the file operations.\n",
        "- This prevents resource leaks and makes the code cleaner and more robust. The `with` statement works with objects that implement the context management protocol (having `__enter__` and `__exit__` methods)."
      ]
    },
    {
      "cell_type": "markdown",
      "metadata": {
        "id": "55fcd493"
      },
      "source": [
        "#### **9. What is the difference between multithreading and multiprocessing**\n",
        "\n"
      ]
    },
    {
      "cell_type": "markdown",
      "metadata": {
        "id": "rRj02fuRtxYx"
      },
      "source": [
        "- **Multithreading:** Involves multiple threads within a single process. Threads share the same memory space. It's suitable for I/O-bound tasks (tasks that spend a lot of time waiting for external resources like network or disk) as threads can switch while one is waiting. Due to the Global Interpreter Lock (GIL) in CPython, multithreading is not ideal for CPU-bound tasks as only one thread can execute Python bytecode at a time.\n",
        "- **Multiprocessing:** Involves creating separate processes, each with its own memory space and Python interpreter. This is suitable for CPU-bound tasks as processes can run in parallel on different CPU cores, bypassing the GIL. However, communication between processes is more complex than communication between threads."
      ]
    },
    {
      "cell_type": "markdown",
      "metadata": {
        "id": "fae5d211"
      },
      "source": [
        "#### **10. What are the advantages of using logging in a program**\n",
        "\n"
      ]
    },
    {
      "cell_type": "markdown",
      "metadata": {
        "id": "6jwcd6Ngt7CR"
      },
      "source": [
        "- Advantages of using logging include:\n",
        "  - **Debugging:** Provides detailed information about program execution flow, variable values, and errors, making debugging easier.\n",
        "  - **Monitoring:** Allows you to track program behavior in production environments and identify potential issues before they become critical.\n",
        "  - **Auditing:** Can record significant events or user actions for auditing purposes.\n",
        "  - **Separation of concerns:** Keeps logging code separate from the main program logic.\n",
        "  - **Flexibility:** Log messages can be directed to different destinations and filtered based on severity levels.\n",
        "  - **Maintainability:** Makes code easier to understand and maintain by providing context about its execution."
      ]
    },
    {
      "cell_type": "markdown",
      "metadata": {
        "id": "f4f03270"
      },
      "source": [
        "#### **11. What is memory management in Python**\n",
        "\n"
      ]
    },
    {
      "cell_type": "markdown",
      "metadata": {
        "id": "fPf7QhfatVmD"
      },
      "source": [
        "- Memory management in Python involves how Python allocates and deallocates memory for objects. Python has a private heap where all Python objects and data structures are stored.\n",
        "- The Python memory manager is responsible for allocating space for objects on this heap.\n",
        "- Memory management in Python is largely automatic, handled by a garbage collector that reclaims memory that is no longer being used by objects."
      ]
    },
    {
      "cell_type": "markdown",
      "metadata": {
        "id": "5d9d8795"
      },
      "source": [
        "#### **12. What are the basic steps involved in exception handling in Python**\n",
        "\n"
      ]
    },
    {
      "cell_type": "markdown",
      "metadata": {
        "id": "I1oqoy6RuAdQ"
      },
      "source": [
        "- The basic steps involved in exception handling in Python using `try` and `except` are:\n",
        "  1. **`try` block:** Code that might raise an exception is placed inside the `try` block.\n",
        "  2. **`except` block(s):** If an exception occurs within the `try` block, Python looks for a matching `except` block. If found, the code inside that `except` block is executed.\n",
        "  3. **Optional `else` block:** Code that should be executed only if no exception occurred in the `try` block is placed in the `else` block.\n",
        "  4. **Optional `finally` block:** Code that should be executed regardless of whether an exception occurred or not is placed in the `finally` block."
      ]
    },
    {
      "cell_type": "markdown",
      "metadata": {
        "id": "38430c4e"
      },
      "source": [
        "#### **13. Why is memory management important in Python**\n",
        "\n"
      ]
    },
    {
      "cell_type": "markdown",
      "metadata": {
        "id": "IMaTqAuLuTJl"
      },
      "source": [
        "- Memory management is important in Python (and programming in general) for several reasons:\n",
        "  - **Efficiency:** Efficient memory management ensures that programs use memory optimally, preventing excessive memory consumption that can slow down the program or lead to crashes.\n",
        "  - **Resource availability:** By reclaiming unused memory, memory management makes that memory available for new objects and processes, ensuring the program can continue to run without running out of resources.\n",
        "  - **Preventing memory leaks:** Proper memory management helps prevent memory leaks, which occur when a program fails to release memory that is no longer needed, leading to gradual performance degradation and eventual crashes.\n",
        "  - **Program stability:** Effective memory management contributes to the overall stability and reliability of the program."
      ]
    },
    {
      "cell_type": "markdown",
      "metadata": {
        "id": "8e845489"
      },
      "source": [
        "#### **14. What is the role of try and except in exception handling**\n",
        "\n"
      ]
    },
    {
      "cell_type": "markdown",
      "metadata": {
        "id": "Vmn_9ydFuazp"
      },
      "source": [
        "- **`try` block:** The `try` block is used to enclose the code that might potentially raise an exception. When Python executes the code within the `try` block, it monitors for any exceptions that might occur.\n",
        "- **`except` block:** The `except` block is used to define how to handle a specific type of exception (or multiple types). If an exception is raised in the `try` block that matches the exception type specified in the `except` block, the code within the `except` block is executed. This allows you to gracefully recover from errors and prevent the program from terminating unexpectedly."
      ]
    },
    {
      "cell_type": "markdown",
      "metadata": {
        "id": "1c948068"
      },
      "source": [
        "#### **15. How does Python's garbage collection system work**\n",
        "\n"
      ]
    },
    {
      "cell_type": "markdown",
      "metadata": {
        "id": "JwzdmByoueJ8"
      },
      "source": [
        "- Python's garbage collection system primarily works through two mechanisms:\n",
        "  1. **Reference Counting:** This is the primary mechanism. Python keeps track of the number of references to an object. When the reference count of an object drops to zero, it means the object is no longer accessible and the memory it occupies can be reclaimed.\n",
        "  2. **Generational Cyclic Garbage Collector:** This collector deals with reference cycles, where objects refer to each other in a cycle but are no longer accessible from outside the cycle. The cyclic garbage collector periodically identifies and reclaims such unreachable cycles of objects. It uses generations to optimize the process, assuming that most objects die young."
      ]
    },
    {
      "cell_type": "markdown",
      "metadata": {
        "id": "30965ed7"
      },
      "source": [
        "#### **16. What is the purpose of the else block in exception handling**\n",
        "\n"
      ]
    },
    {
      "cell_type": "markdown",
      "metadata": {
        "id": "pEYwEVcmul5G"
      },
      "source": [
        "- The `else` block in exception handling is an optional block that can be used with a `try` and `except` block.\n",
        "- The code within the `else` block is executed **only if no exception occurred** in the `try` block. It's a good place to put code that should run when the `try` block completes successfully, separating it from the code that handles potential exceptions."
      ]
    },
    {
      "cell_type": "markdown",
      "metadata": {
        "id": "8ea284ee"
      },
      "source": [
        "#### **17. What are the common logging levels in Python**\n",
        "\n",
        "- The common logging levels in Python, in increasing order of severity, are:\n",
        "  1. **DEBUG:** Detailed information, typically only of interest when diagnosing problems.\n",
        "  2. **INFO:** Confirmation that things are working as expected.\n",
        "  3. **WARNING:** An indication that something unexpected happened, or might happen in the future (e.g. 'disk space low'). The software is still working as expected.\n",
        "  4. **ERROR:** Due to a more serious problem, the software has not been able to perform some function.\n",
        "  5. **CRITICAL:** A serious error, indicating that the program itself may be unable to continue running."
      ]
    },
    {
      "cell_type": "markdown",
      "metadata": {
        "id": "d6b40ee1"
      },
      "source": [
        "#### **18. What is the difference between os.fork() and multiprocessing in Python**\n",
        "\n"
      ]
    },
    {
      "cell_type": "markdown",
      "metadata": {
        "id": "iIJtWAohvGRY"
      },
      "source": [
        "- **`os.fork()`:** This is a system call (available on Unix-like systems) that creates a new process by duplicating the calling process. The child process is an exact copy of the parent process at the time of the fork. It's a lower-level way to achieve multiprocessing.\n",
        "- **`multiprocessing` module:** This is a higher-level, cross-platform library in Python that provides an API for creating and managing processes. It abstracts away the complexities of using `os.fork()` directly and provides features like process pools, queues, and pipes for inter-process communication. It works on both Unix-like systems (using `os.fork()`) and Windows (using spawning)."
      ]
    },
    {
      "cell_type": "markdown",
      "metadata": {
        "id": "9d9aaf8d"
      },
      "source": [
        "#### **19. What is the importance of closing a file in Python**\n",
        "\n",
        "- It is important to close a file in Python after you are finished with it for several reasons:\n",
        "  - **Resource release:** Closing a file releases the system resources (like file descriptors) that were allocated to it. Operating systems have a limited number of these resources, and failing to close files can lead to resource exhaustion and prevent other parts of the program or system from opening files.\n",
        "  - **Data flushing:** When you write to a file, the data is often buffered in memory before being physically written to the disk. Closing the file flushes any buffered data to the file, ensuring that all your written content is saved.\n",
        "  - **Preventing data corruption:** If a program terminates unexpectedly without closing a file, the buffered data might be lost or the file might become corrupted.\n",
        "  - **Ensuring file availability:** On some operating systems, a file remains locked while it is open, preventing other programs or processes from accessing or modifying it. Closing the file releases the lock.\n",
        "  - Using the `with` statement is the recommended way to handle files as it automatically ensures the file is closed."
      ]
    },
    {
      "cell_type": "markdown",
      "metadata": {
        "id": "75712fca"
      },
      "source": [
        "#### **20. What is the difference between file.read() and file.readline() in Python**\n",
        "\n"
      ]
    },
    {
      "cell_type": "markdown",
      "metadata": {
        "id": "9DuDJA91vZN9"
      },
      "source": [
        "- **`file.read(size=-1)`:** This method reads the entire content of the file as a single string. You can optionally provide a `size` argument to read a specific number of characters (or bytes in binary mode). If `size` is negative or omitted, it reads until the end of the file.\n",
        "- **`file.readline(size=-1)`:** This method reads a single line from the file, including the newline character at the end of the line. You can optionally provide a `size` argument to limit the number of characters read in that line. If `size` is negative or omitted, it reads until the end of the line."
      ]
    },
    {
      "cell_type": "markdown",
      "metadata": {
        "id": "c0710915"
      },
      "source": [
        "#### **21. What is the logging module in Python used for**\n",
        "\n"
      ]
    },
    {
      "cell_type": "markdown",
      "metadata": {
        "id": "AmjbsWTCvdzK"
      },
      "source": [
        "- The `logging` module in Python is used for recording events that occur during the execution of a program.\n",
        "- It provides a flexible and standardized way to generate, categorize, filter, and output log messages.\n",
        "- This is essential for debugging, monitoring, and understanding the behavior of your applications, especially in production environments.\n",
        "- And, It allows developers to control the level of detail logged and where the log messages are sent (console, file, etc.)."
      ]
    },
    {
      "cell_type": "markdown",
      "metadata": {
        "id": "554ce425"
      },
      "source": [
        "#### **22. What is the os module in Python used for in file handling**\n",
        "\n"
      ]
    },
    {
      "cell_type": "markdown",
      "metadata": {
        "id": "K4GdsB0iv2Dy"
      },
      "source": [
        "- The `os` module in Python provides a way to interact with the operating system. In file handling, the `os` module is used for various tasks such as:\n",
        "  - **Checking for file/directory existence:** `os.path.exists()`, `os.path.isfile()`, `os.path.isdir()`\n",
        "  - **Renaming or deleting files/directories:** `os.rename()`, `os.remove()`, `os.rmdir()`\n",
        "  - **Creating directories:** `os.mkdir()`, `os.makedirs()`\n",
        "  - **Changing the current working directory:** `os.chdir()`\n",
        "  - **Getting file size:** `os.path.getsize()`\n",
        "  - **Listing directory contents:** `os.listdir()`\n",
        "  - It provides a portable way to interact with the underlying file system."
      ]
    },
    {
      "cell_type": "markdown",
      "metadata": {
        "id": "a2799f2d"
      },
      "source": [
        "#### **23. What are the challenges associated with memory management in Python**\n",
        "\n"
      ]
    },
    {
      "cell_type": "markdown",
      "metadata": {
        "id": "YUmNxIkav94g"
      },
      "source": [
        "- While Python's automatic memory management simplifies development, some challenges can still arise:\n",
        "  - **Memory Leaks:** Although reference counting and the cyclic garbage collector help, complex data structures or external resources not properly released can still lead to memory leaks.\n",
        "  - **Performance Overhead:** The garbage collection process itself can introduce some performance overhead, especially in applications with intensive object creation and destruction.\n",
        "  - **Predicting Memory Usage:** It can be challenging to precisely predict the memory usage of a Python program due to the dynamic nature of the language and the garbage collection process.\n",
        "  - **Reference Cycles:** While the cyclic garbage collector handles most reference cycles, poorly designed code or interactions with external libraries can sometimes create cycles that are not properly collected.\n",
        "  - **Integration with C/C++ extensions:** When working with C/C++ extensions, manual memory management might be required for objects created in those extensions, adding complexity."
      ]
    },
    {
      "cell_type": "markdown",
      "metadata": {
        "id": "f0741213"
      },
      "source": [
        "#### **24. How do you raise an exception manually in Python**\n",
        "\n"
      ]
    },
    {
      "cell_type": "markdown",
      "metadata": {
        "id": "Rm-it6-dwHYK"
      },
      "source": [
        "- You can raise an exception manually in Python using the `raise` statement, followed by the exception type and optionally an instance of the exception with an error message. As the given example below"
      ]
    },
    {
      "cell_type": "code",
      "execution_count": 28,
      "metadata": {
        "id": "8e4c656d"
      },
      "outputs": [],
      "source": [
        "try:\n",
        "    # some code\n",
        "    pass\n",
        "except Exception as e:\n",
        "    # handle SomeException\n",
        "    raise # re-raises the caught exception"
      ]
    },
    {
      "cell_type": "markdown",
      "metadata": {
        "id": "ee2cd46c"
      },
      "source": [
        "#### **25. Why is it important to use multithreading in certain applications?**\n",
        "\n"
      ]
    },
    {
      "cell_type": "markdown",
      "metadata": {
        "id": "MRNBudk_wYrC"
      },
      "source": [
        "- Multithreading is important in certain applications primarily to improve performance and responsiveness, especially in scenarios involving I/O-bound operations.\n",
        "- By using threads, a program can perform multiple tasks concurrently. While one thread is waiting for an I/O operation (like reading a file or making a network request), other threads can continue executing, preventing the program from blocking and becoming unresponsive.\n",
        "- This is particularly useful for applications with graphical user interfaces (GUIs), web servers, or applications that interact with databases or external services.\n",
        "- However, due to the GIL in CPython, multithreading is less effective for CPU-bound tasks that require significant processing power."
      ]
    },
    {
      "cell_type": "markdown",
      "metadata": {
        "id": "1ppK10h_pJWQ"
      },
      "source": [
        "## PRACTICAL QUESTIONS"
      ]
    },
    {
      "cell_type": "markdown",
      "metadata": {
        "id": "f15c62c5"
      },
      "source": [
        "#### **1. How can you open a file for writing in Python and write a string to it**"
      ]
    },
    {
      "cell_type": "code",
      "execution_count": 29,
      "metadata": {
        "id": "AMzxNBVExB0s"
      },
      "outputs": [],
      "source": [
        "F = open(\"file.txt\", \"w\")\n",
        "F.write(\"Hello World \\n\")\n",
        "F.write(\"This is PW skills assignment \\n\")\n",
        "F.write(\"Practical questions \\n\")\n",
        "F.close()"
      ]
    },
    {
      "cell_type": "markdown",
      "metadata": {
        "id": "071d76fb"
      },
      "source": [
        "#### **2. Write a Python program to read the contents of a file and print each line**"
      ]
    },
    {
      "cell_type": "code",
      "execution_count": 30,
      "metadata": {
        "colab": {
          "base_uri": "https://localhost:8080/"
        },
        "id": "Z3Q6xh4DxPvF",
        "outputId": "4454d8c3-390b-403a-acd1-c0d3a2c8bb8d"
      },
      "outputs": [
        {
          "name": "stdout",
          "output_type": "stream",
          "text": [
            "Hello World \n",
            "This is PW skills assignment \n",
            "Practical questions \n",
            "\n"
          ]
        }
      ],
      "source": [
        "F = open(\"file.txt\", \"r\")\n",
        "print(F.read())\n",
        "F.close()"
      ]
    },
    {
      "cell_type": "markdown",
      "metadata": {
        "id": "9d3dfc16"
      },
      "source": [
        "#### **3. How would you handle a case where the file doesn't exist while trying to open it for reading**"
      ]
    },
    {
      "cell_type": "code",
      "execution_count": 31,
      "metadata": {
        "colab": {
          "base_uri": "https://localhost:8080/"
        },
        "id": "v7NED6Vmx4nv",
        "outputId": "e59c5074-bd47-4aa2-e12a-2bab0179fcf8"
      },
      "outputs": [
        {
          "name": "stdout",
          "output_type": "stream",
          "text": [
            "Writing content to an existing file\n"
          ]
        }
      ],
      "source": [
        "try:\n",
        "    F = open(\"file1.txt\", \"r\")\n",
        "    print(F.read())\n",
        "    F.close()\n",
        "except FileNotFoundError:\n",
        "    print(\"File not found\")\n",
        "    print(\"Creating a new file named file1.txt\")\n",
        "    F = open(\"file.txt1\", \"w\")\n",
        "    print(\"File created sucessfully.\")\n",
        "    F.close()"
      ]
    },
    {
      "cell_type": "markdown",
      "metadata": {
        "id": "c3f8aae2"
      },
      "source": [
        "#### **4. Write a Python script that reads from one file and writes its content to another file**"
      ]
    },
    {
      "cell_type": "code",
      "execution_count": 32,
      "metadata": {
        "id": "-Ke2S40AyYm1"
      },
      "outputs": [],
      "source": [
        "F = open(\"file.txt\", \"r\")\n",
        "F1 = open(\"file1.txt\", \"w\")\n",
        "F1.write(F.read())\n",
        "F.close()\n",
        "F1.close()"
      ]
    },
    {
      "cell_type": "code",
      "execution_count": 33,
      "metadata": {
        "colab": {
          "base_uri": "https://localhost:8080/"
        },
        "id": "LNaIm0nMzsJe",
        "outputId": "ede264c1-30a7-454d-c873-e8f1dbdf67bc"
      },
      "outputs": [
        {
          "name": "stdout",
          "output_type": "stream",
          "text": [
            "Hello World \n",
            "This is PW skills assignment \n",
            "Practical questions \n",
            "\n"
          ]
        }
      ],
      "source": [
        "F1 = open(\"file1.txt\", \"r\")\n",
        "print(F1.read())\n",
        "F1.close()"
      ]
    },
    {
      "cell_type": "markdown",
      "metadata": {
        "id": "7131dc94"
      },
      "source": [
        "#### **5. How would you catch and handle division by zero error in Python**"
      ]
    },
    {
      "cell_type": "code",
      "execution_count": 34,
      "metadata": {
        "id": "gj9tB7CFz0lr"
      },
      "outputs": [],
      "source": [
        "def division(a,b):\n",
        "  try:\n",
        "    return a/b\n",
        "  except ZeroDivisionError:\n",
        "    print(\"Division by zero error\")\n",
        "  else:\n",
        "    return a/b\n"
      ]
    },
    {
      "cell_type": "code",
      "execution_count": 35,
      "metadata": {
        "colab": {
          "base_uri": "https://localhost:8080/"
        },
        "id": "E4t3O1hP0NYH",
        "outputId": "91f7412e-59ed-420b-f27c-80354bbc5480"
      },
      "outputs": [
        {
          "name": "stdout",
          "output_type": "stream",
          "text": [
            "Division by zero error\n"
          ]
        }
      ],
      "source": [
        "division(5,0)"
      ]
    },
    {
      "cell_type": "code",
      "execution_count": 36,
      "metadata": {
        "colab": {
          "base_uri": "https://localhost:8080/"
        },
        "id": "ViaoYG6b02v2",
        "outputId": "af7b8281-9477-4566-f0d9-7ed15ec43785"
      },
      "outputs": [
        {
          "data": {
            "text/plain": [
              "1.25"
            ]
          },
          "execution_count": 36,
          "metadata": {},
          "output_type": "execute_result"
        }
      ],
      "source": [
        "division(5,4)"
      ]
    },
    {
      "cell_type": "markdown",
      "metadata": {
        "id": "56521604"
      },
      "source": [
        "#### **6. Write a Python program that logs an error message to a log file when a division by zero exception occurs**"
      ]
    },
    {
      "cell_type": "code",
      "execution_count": 37,
      "metadata": {
        "id": "RWeHX4Rq0-Hm"
      },
      "outputs": [],
      "source": [
        "import logging\n",
        "\n",
        "logging.basicConfig(filename=\"error.log\", level=logging.ERROR, format = '%(asctime)s, %(levelname)s : %(message)s')\n",
        "\n",
        "def division(a,b):\n",
        "  try:\n",
        "    return a/b\n",
        "  except ZeroDivisionError:\n",
        "    print(\"Division by zero error\")\n",
        "    logging.error(f\"{a}/{b} : Division by zero error\")\n",
        "  else:\n",
        "    return a/b"
      ]
    },
    {
      "cell_type": "code",
      "execution_count": 38,
      "metadata": {
        "colab": {
          "base_uri": "https://localhost:8080/"
        },
        "id": "_NcNxYPe1qe7",
        "outputId": "ab28ab44-629e-4c04-e09b-f787961bd82b"
      },
      "outputs": [
        {
          "name": "stdout",
          "output_type": "stream",
          "text": [
            "Division by zero error\n"
          ]
        }
      ],
      "source": [
        "division(10,0)"
      ]
    },
    {
      "cell_type": "markdown",
      "metadata": {
        "id": "c3e824f6"
      },
      "source": [
        "#### **7. How do you log information at different levels (INFO, ERROR, WARNING) in Python using the logging module**"
      ]
    },
    {
      "cell_type": "code",
      "execution_count": 39,
      "metadata": {},
      "outputs": [],
      "source": [
        "import logging\n",
        "logging.basicConfig(filename = 'Test_error.log', level = logging.INFO, format = '%(asctime)s, %(levelname)s : %(message)s')\n",
        "\n",
        "logging.info(\"Log file created successfully\")\n",
        "logging.error(\"This function is not operable\")\n",
        "logging.warning(\"somthing unexpected occured\")\n"
      ]
    },
    {
      "cell_type": "markdown",
      "metadata": {
        "id": "23b25e2e"
      },
      "source": [
        "#### **8. Write a program to handle a file opening error using exception handling**"
      ]
    },
    {
      "cell_type": "code",
      "execution_count": 40,
      "metadata": {},
      "outputs": [
        {
          "name": "stdout",
          "output_type": "stream",
          "text": [
            "[Errno 2] No such file or directory: 'File3.txt'\n"
          ]
        }
      ],
      "source": [
        "try:\n",
        "    f2 = open(\"File3.txt\",\"r\")\n",
        "    print(f2.read())\n",
        "    f2.close()\n",
        "except FileNotFoundError as e:\n",
        "    print(f\"{e}\")"
      ]
    },
    {
      "cell_type": "markdown",
      "metadata": {
        "id": "7d490e3a"
      },
      "source": [
        "#### **9. How can you read a file line by line and store its content in a list in Python**"
      ]
    },
    {
      "cell_type": "code",
      "execution_count": 41,
      "metadata": {},
      "outputs": [
        {
          "name": "stdout",
          "output_type": "stream",
          "text": [
            "['Hello World \\n', 'This is PW skills assignment \\n', 'Practical questions \\n']\n"
          ]
        }
      ],
      "source": [
        "F1 = open(\"file1.txt\", \"r\")\n",
        "data = []\n",
        "x = F1.readlines()\n",
        "for i in x:\n",
        "    data.append(i)\n",
        "print(list(data))\n",
        "F1.close()"
      ]
    },
    {
      "cell_type": "markdown",
      "metadata": {
        "id": "9ed04afe"
      },
      "source": [
        "#### **10. How can you append data to an existing file in Python**"
      ]
    },
    {
      "cell_type": "code",
      "execution_count": 42,
      "metadata": {},
      "outputs": [],
      "source": [
        "F1 = open(\"file1.txt\", \"a\")\n",
        "F1.write(\"Writing content to an existing file\")\n",
        "F1.close()"
      ]
    },
    {
      "cell_type": "code",
      "execution_count": 43,
      "metadata": {},
      "outputs": [
        {
          "name": "stdout",
          "output_type": "stream",
          "text": [
            "Hello World \n",
            "This is PW skills assignment \n",
            "Practical questions \n",
            "Writing content to an existing file\n"
          ]
        }
      ],
      "source": [
        "F1 = open(\"file1.txt\", \"r\")\n",
        "print(F1.read())\n",
        "F1.close()"
      ]
    },
    {
      "cell_type": "markdown",
      "metadata": {
        "id": "f5827574"
      },
      "source": [
        "#### **11. Write a Python program that uses a try-except block to handle an error when attempting to access a dictionary key that doesn't exist**"
      ]
    },
    {
      "cell_type": "code",
      "execution_count": 58,
      "metadata": {},
      "outputs": [
        {
          "name": "stdout",
          "output_type": "stream",
          "text": [
            "KeyError('Age')\n"
          ]
        }
      ],
      "source": [
        "dict1 = {\"Name\" : \"Jhon\", \"Gender\" : \"Male\"}\n",
        "\n",
        "try:\n",
        "    dict1['Age']\n",
        "except KeyError as e:\n",
        "    print(repr(e))"
      ]
    },
    {
      "cell_type": "markdown",
      "metadata": {
        "id": "a01498e1"
      },
      "source": [
        "#### **12. Write a program that demonstrates using multiple except blocks to handle different types of exceptions**"
      ]
    },
    {
      "cell_type": "code",
      "execution_count": 59,
      "metadata": {},
      "outputs": [],
      "source": [
        "def division(a,b):\n",
        "  try:\n",
        "    return a/b\n",
        "  except ZeroDivisionError:\n",
        "    print(\"Division by zero error\")\n",
        "  except TypeError:\n",
        "    print(\"Type error\")\n",
        "  else:\n",
        "    return a/b"
      ]
    },
    {
      "cell_type": "code",
      "execution_count": 61,
      "metadata": {},
      "outputs": [
        {
          "name": "stdout",
          "output_type": "stream",
          "text": [
            "Type error\n"
          ]
        }
      ],
      "source": [
        "division(5,\"string\")"
      ]
    },
    {
      "cell_type": "markdown",
      "metadata": {
        "id": "728b7587"
      },
      "source": [
        "#### **13. How would you check if a file exists before attempting to read it in Python**"
      ]
    },
    {
      "cell_type": "code",
      "execution_count": 74,
      "metadata": {},
      "outputs": [],
      "source": [
        "def check_if_exists(file):\n",
        "    import os,sys\n",
        "    from os.path import exists, dirname, abspath, join\n",
        "    file_path = abspath(join(file))\n",
        "    sys.path.insert(0, file_path)\n",
        "\n",
        "    if os.path.exists(file_path):\n",
        "        print(f\"The file '{file_path}' exists. Proceeding to read.\")\n",
        "        try:\n",
        "            with open(file_path, 'r') as f:\n",
        "                content = f.read()\n",
        "                print(\"File content:\")\n",
        "                print(content)\n",
        "        except Exception as e:\n",
        "            print(f\"An error occurred while reading the file: {e}\")\n",
        "    else:\n",
        "        print(f\"The file '{file_path}' does not exist. Cannot read.\")"
      ]
    },
    {
      "cell_type": "code",
      "execution_count": 75,
      "metadata": {},
      "outputs": [
        {
          "name": "stdout",
          "output_type": "stream",
          "text": [
            "The file 'e:\\VSD codes\\python\\PW skills - DS and Gen AI\\Files, exceptional handling, logging\\Assignment 1\\file12.txt' does not exist. Cannot read.\n"
          ]
        }
      ],
      "source": [
        "check_if_exists(\"file12.txt\")"
      ]
    },
    {
      "cell_type": "code",
      "execution_count": 76,
      "metadata": {},
      "outputs": [
        {
          "name": "stdout",
          "output_type": "stream",
          "text": [
            "The file 'e:\\VSD codes\\python\\PW skills - DS and Gen AI\\Files, exceptional handling, logging\\Assignment 1\\file1.txt' exists. Proceeding to read.\n",
            "File content:\n",
            "Hello World \n",
            "This is PW skills assignment \n",
            "Practical questions \n",
            "Writing content to an existing file\n"
          ]
        }
      ],
      "source": [
        "check_if_exists(\"file1.txt\")"
      ]
    },
    {
      "cell_type": "markdown",
      "metadata": {
        "id": "dfac11eb"
      },
      "source": [
        "#### **14. Write a program that uses the logging module to log both informational and error messages**"
      ]
    },
    {
      "cell_type": "code",
      "execution_count": 1,
      "metadata": {},
      "outputs": [],
      "source": [
        "import logging\n",
        "logging.basicConfig(filename = 'Test_error1.log', level = logging.INFO, format = '%(asctime)s, %(levelname)s : %(message)s')\n",
        "\n",
        "logging.info(\"Information message\")\n",
        "logging.error(\"Error message\")"
      ]
    },
    {
      "cell_type": "markdown",
      "metadata": {
        "id": "2fa57c0a"
      },
      "source": [
        "#### **15. Write a Python program that prints the content of a file and handles the case when the file is empty**"
      ]
    },
    {
      "cell_type": "code",
      "execution_count": null,
      "metadata": {},
      "outputs": [],
      "source": [
        "def check_if_content_exists(file):\n",
        "    import os,sys\n",
        "    from os.path import exists, dirname, abspath, join\n",
        "    file_path = abspath(join(file))\n",
        "    sys.path.insert(0, file_path)\n",
        "\n",
        "    if os.path.exists(file_path):\n",
        "        print(f\"The file '{file_path}' exists. Proceeding to read.\")\n",
        "        try:\n",
        "            if os.path.getsize(file_path) == 0:\n",
        "                print(f\"The file '{file_path}' is empty.\")\n",
        "            else:\n",
        "                with open(file_path, 'r') as f:\n",
        "                    content = f.read()\n",
        "                    print(\"File content:\")\n",
        "                    print(content)\n",
        "        except Exception as e:\n",
        "            print(f\"An error occurred while reading the file: {e}\")\n",
        "    else:\n",
        "        print(f\"The file '{file_path}' does not exist. Cannot read.\")"
      ]
    },
    {
      "cell_type": "code",
      "execution_count": 24,
      "metadata": {},
      "outputs": [
        {
          "name": "stdout",
          "output_type": "stream",
          "text": [
            "The file 'e:\\VSD codes\\python\\PW skills - DS and Gen AI\\Files, exceptional handling, logging\\Assignment 1\\file3.txt' exists. Proceeding to read.\n",
            "The file 'e:\\VSD codes\\python\\PW skills - DS and Gen AI\\Files, exceptional handling, logging\\Assignment 1\\file3.txt' is empty.\n"
          ]
        }
      ],
      "source": [
        "f3 = open(\"file3.txt\", \"w\")\n",
        "f3.close()\n",
        "check_if_content_exists(\"file3.txt\")"
      ]
    },
    {
      "cell_type": "code",
      "execution_count": 28,
      "metadata": {},
      "outputs": [
        {
          "name": "stdout",
          "output_type": "stream",
          "text": [
            "The file 'e:\\VSD codes\\python\\PW skills - DS and Gen AI\\Files, exceptional handling, logging\\Assignment 1\\file.txt' exists. Proceeding to read.\n",
            "File content:\n",
            "Hello World \n",
            "This is PW skills assignment \n",
            "Practical questions \n",
            "\n"
          ]
        }
      ],
      "source": [
        "check_if_content_exists(\"file.txt\")"
      ]
    },
    {
      "cell_type": "markdown",
      "metadata": {
        "id": "12c864ef"
      },
      "source": [
        "#### **16. Demonstrate how to use memory profiling to check the memory usage of a small program**"
      ]
    },
    {
      "cell_type": "code",
      "execution_count": 2,
      "metadata": {},
      "outputs": [
        {
          "name": "stdout",
          "output_type": "stream",
          "text": [
            "Requirement already satisfied: memory_profiler in c:\\users\\hp\\appdata\\local\\programs\\python\\python38\\lib\\site-packages (0.61.0)\n",
            "Requirement already satisfied: psutil in c:\\users\\hp\\appdata\\local\\programs\\python\\python38\\lib\\site-packages (from memory_profiler) (7.0.0)\n"
          ]
        }
      ],
      "source": [
        "!pip install memory_profiler"
      ]
    },
    {
      "cell_type": "code",
      "execution_count": 6,
      "metadata": {},
      "outputs": [
        {
          "name": "stdout",
          "output_type": "stream",
          "text": [
            "ERROR: Could not find file C:\\Users\\hp\\AppData\\Local\\Temp\\ipykernel_17796\\3360490640.py\n"
          ]
        },
        {
          "data": {
            "text/plain": [
              "[0,\n",
              " 1,\n",
              " 2,\n",
              " 3,\n",
              " 4,\n",
              " 5,\n",
              " 6,\n",
              " 7,\n",
              " 8,\n",
              " 9,\n",
              " 10,\n",
              " 11,\n",
              " 12,\n",
              " 13,\n",
              " 14,\n",
              " 15,\n",
              " 16,\n",
              " 17,\n",
              " 18,\n",
              " 19,\n",
              " 20,\n",
              " 21,\n",
              " 22,\n",
              " 23,\n",
              " 24,\n",
              " 25,\n",
              " 26,\n",
              " 27,\n",
              " 28,\n",
              " 29,\n",
              " 30,\n",
              " 31,\n",
              " 32,\n",
              " 33,\n",
              " 34,\n",
              " 35,\n",
              " 36,\n",
              " 37,\n",
              " 38,\n",
              " 39,\n",
              " 40,\n",
              " 41,\n",
              " 42,\n",
              " 43,\n",
              " 44,\n",
              " 45,\n",
              " 46,\n",
              " 47,\n",
              " 48,\n",
              " 49,\n",
              " 50,\n",
              " 51,\n",
              " 52,\n",
              " 53,\n",
              " 54,\n",
              " 55,\n",
              " 56,\n",
              " 57,\n",
              " 58,\n",
              " 59,\n",
              " 60,\n",
              " 61,\n",
              " 62,\n",
              " 63,\n",
              " 64,\n",
              " 65,\n",
              " 66,\n",
              " 67,\n",
              " 68,\n",
              " 69,\n",
              " 70,\n",
              " 71,\n",
              " 72,\n",
              " 73,\n",
              " 74,\n",
              " 75,\n",
              " 76,\n",
              " 77,\n",
              " 78,\n",
              " 79,\n",
              " 80,\n",
              " 81,\n",
              " 82,\n",
              " 83,\n",
              " 84,\n",
              " 85,\n",
              " 86,\n",
              " 87,\n",
              " 88,\n",
              " 89,\n",
              " 90,\n",
              " 91,\n",
              " 92,\n",
              " 93,\n",
              " 94,\n",
              " 95,\n",
              " 96,\n",
              " 97,\n",
              " 98,\n",
              " 99,\n",
              " 100,\n",
              " 101,\n",
              " 102,\n",
              " 103,\n",
              " 104,\n",
              " 105,\n",
              " 106,\n",
              " 107,\n",
              " 108,\n",
              " 109,\n",
              " 110,\n",
              " 111,\n",
              " 112,\n",
              " 113,\n",
              " 114,\n",
              " 115,\n",
              " 116,\n",
              " 117,\n",
              " 118,\n",
              " 119,\n",
              " 120,\n",
              " 121,\n",
              " 122,\n",
              " 123,\n",
              " 124,\n",
              " 125,\n",
              " 126,\n",
              " 127,\n",
              " 128,\n",
              " 129,\n",
              " 130,\n",
              " 131,\n",
              " 132,\n",
              " 133,\n",
              " 134,\n",
              " 135,\n",
              " 136,\n",
              " 137,\n",
              " 138,\n",
              " 139,\n",
              " 140,\n",
              " 141,\n",
              " 142,\n",
              " 143,\n",
              " 144,\n",
              " 145,\n",
              " 146,\n",
              " 147,\n",
              " 148,\n",
              " 149,\n",
              " 150,\n",
              " 151,\n",
              " 152,\n",
              " 153,\n",
              " 154,\n",
              " 155,\n",
              " 156,\n",
              " 157,\n",
              " 158,\n",
              " 159,\n",
              " 160,\n",
              " 161,\n",
              " 162,\n",
              " 163,\n",
              " 164,\n",
              " 165,\n",
              " 166,\n",
              " 167,\n",
              " 168,\n",
              " 169,\n",
              " 170,\n",
              " 171,\n",
              " 172,\n",
              " 173,\n",
              " 174,\n",
              " 175,\n",
              " 176,\n",
              " 177,\n",
              " 178,\n",
              " 179,\n",
              " 180,\n",
              " 181,\n",
              " 182,\n",
              " 183,\n",
              " 184,\n",
              " 185,\n",
              " 186,\n",
              " 187,\n",
              " 188,\n",
              " 189,\n",
              " 190,\n",
              " 191,\n",
              " 192,\n",
              " 193,\n",
              " 194,\n",
              " 195,\n",
              " 196,\n",
              " 197,\n",
              " 198,\n",
              " 199,\n",
              " 200,\n",
              " 201,\n",
              " 202,\n",
              " 203,\n",
              " 204,\n",
              " 205,\n",
              " 206,\n",
              " 207,\n",
              " 208,\n",
              " 209,\n",
              " 210,\n",
              " 211,\n",
              " 212,\n",
              " 213,\n",
              " 214,\n",
              " 215,\n",
              " 216,\n",
              " 217,\n",
              " 218,\n",
              " 219,\n",
              " 220,\n",
              " 221,\n",
              " 222,\n",
              " 223,\n",
              " 224,\n",
              " 225,\n",
              " 226,\n",
              " 227,\n",
              " 228,\n",
              " 229,\n",
              " 230,\n",
              " 231,\n",
              " 232,\n",
              " 233,\n",
              " 234,\n",
              " 235,\n",
              " 236,\n",
              " 237,\n",
              " 238,\n",
              " 239,\n",
              " 240,\n",
              " 241,\n",
              " 242,\n",
              " 243,\n",
              " 244,\n",
              " 245,\n",
              " 246,\n",
              " 247,\n",
              " 248,\n",
              " 249,\n",
              " 250,\n",
              " 251,\n",
              " 252,\n",
              " 253,\n",
              " 254,\n",
              " 255,\n",
              " 256,\n",
              " 257,\n",
              " 258,\n",
              " 259,\n",
              " 260,\n",
              " 261,\n",
              " 262,\n",
              " 263,\n",
              " 264,\n",
              " 265,\n",
              " 266,\n",
              " 267,\n",
              " 268,\n",
              " 269,\n",
              " 270,\n",
              " 271,\n",
              " 272,\n",
              " 273,\n",
              " 274,\n",
              " 275,\n",
              " 276,\n",
              " 277,\n",
              " 278,\n",
              " 279,\n",
              " 280,\n",
              " 281,\n",
              " 282,\n",
              " 283,\n",
              " 284,\n",
              " 285,\n",
              " 286,\n",
              " 287,\n",
              " 288,\n",
              " 289,\n",
              " 290,\n",
              " 291,\n",
              " 292,\n",
              " 293,\n",
              " 294,\n",
              " 295,\n",
              " 296,\n",
              " 297,\n",
              " 298,\n",
              " 299,\n",
              " 300,\n",
              " 301,\n",
              " 302,\n",
              " 303,\n",
              " 304,\n",
              " 305,\n",
              " 306,\n",
              " 307,\n",
              " 308,\n",
              " 309,\n",
              " 310,\n",
              " 311,\n",
              " 312,\n",
              " 313,\n",
              " 314,\n",
              " 315,\n",
              " 316,\n",
              " 317,\n",
              " 318,\n",
              " 319,\n",
              " 320,\n",
              " 321,\n",
              " 322,\n",
              " 323,\n",
              " 324,\n",
              " 325,\n",
              " 326,\n",
              " 327,\n",
              " 328,\n",
              " 329,\n",
              " 330,\n",
              " 331,\n",
              " 332,\n",
              " 333,\n",
              " 334,\n",
              " 335,\n",
              " 336,\n",
              " 337,\n",
              " 338,\n",
              " 339,\n",
              " 340,\n",
              " 341,\n",
              " 342,\n",
              " 343,\n",
              " 344,\n",
              " 345,\n",
              " 346,\n",
              " 347,\n",
              " 348,\n",
              " 349,\n",
              " 350,\n",
              " 351,\n",
              " 352,\n",
              " 353,\n",
              " 354,\n",
              " 355,\n",
              " 356,\n",
              " 357,\n",
              " 358,\n",
              " 359,\n",
              " 360,\n",
              " 361,\n",
              " 362,\n",
              " 363,\n",
              " 364,\n",
              " 365,\n",
              " 366,\n",
              " 367,\n",
              " 368,\n",
              " 369,\n",
              " 370,\n",
              " 371,\n",
              " 372,\n",
              " 373,\n",
              " 374,\n",
              " 375,\n",
              " 376,\n",
              " 377,\n",
              " 378,\n",
              " 379,\n",
              " 380,\n",
              " 381,\n",
              " 382,\n",
              " 383,\n",
              " 384,\n",
              " 385,\n",
              " 386,\n",
              " 387,\n",
              " 388,\n",
              " 389,\n",
              " 390,\n",
              " 391,\n",
              " 392,\n",
              " 393,\n",
              " 394,\n",
              " 395,\n",
              " 396,\n",
              " 397,\n",
              " 398,\n",
              " 399,\n",
              " 400,\n",
              " 401,\n",
              " 402,\n",
              " 403,\n",
              " 404,\n",
              " 405,\n",
              " 406,\n",
              " 407,\n",
              " 408,\n",
              " 409,\n",
              " 410,\n",
              " 411,\n",
              " 412,\n",
              " 413,\n",
              " 414,\n",
              " 415,\n",
              " 416,\n",
              " 417,\n",
              " 418,\n",
              " 419,\n",
              " 420,\n",
              " 421,\n",
              " 422,\n",
              " 423,\n",
              " 424,\n",
              " 425,\n",
              " 426,\n",
              " 427,\n",
              " 428,\n",
              " 429,\n",
              " 430,\n",
              " 431,\n",
              " 432,\n",
              " 433,\n",
              " 434,\n",
              " 435,\n",
              " 436,\n",
              " 437,\n",
              " 438,\n",
              " 439,\n",
              " 440,\n",
              " 441,\n",
              " 442,\n",
              " 443,\n",
              " 444,\n",
              " 445,\n",
              " 446,\n",
              " 447,\n",
              " 448,\n",
              " 449,\n",
              " 450,\n",
              " 451,\n",
              " 452,\n",
              " 453,\n",
              " 454,\n",
              " 455,\n",
              " 456,\n",
              " 457,\n",
              " 458,\n",
              " 459,\n",
              " 460,\n",
              " 461,\n",
              " 462,\n",
              " 463,\n",
              " 464,\n",
              " 465,\n",
              " 466,\n",
              " 467,\n",
              " 468,\n",
              " 469,\n",
              " 470,\n",
              " 471,\n",
              " 472,\n",
              " 473,\n",
              " 474,\n",
              " 475,\n",
              " 476,\n",
              " 477,\n",
              " 478,\n",
              " 479,\n",
              " 480,\n",
              " 481,\n",
              " 482,\n",
              " 483,\n",
              " 484,\n",
              " 485,\n",
              " 486,\n",
              " 487,\n",
              " 488,\n",
              " 489,\n",
              " 490,\n",
              " 491,\n",
              " 492,\n",
              " 493,\n",
              " 494,\n",
              " 495,\n",
              " 496,\n",
              " 497,\n",
              " 498,\n",
              " 499,\n",
              " 500,\n",
              " 501,\n",
              " 502,\n",
              " 503,\n",
              " 504,\n",
              " 505,\n",
              " 506,\n",
              " 507,\n",
              " 508,\n",
              " 509,\n",
              " 510,\n",
              " 511,\n",
              " 512,\n",
              " 513,\n",
              " 514,\n",
              " 515,\n",
              " 516,\n",
              " 517,\n",
              " 518,\n",
              " 519,\n",
              " 520,\n",
              " 521,\n",
              " 522,\n",
              " 523,\n",
              " 524,\n",
              " 525,\n",
              " 526,\n",
              " 527,\n",
              " 528,\n",
              " 529,\n",
              " 530,\n",
              " 531,\n",
              " 532,\n",
              " 533,\n",
              " 534,\n",
              " 535,\n",
              " 536,\n",
              " 537,\n",
              " 538,\n",
              " 539,\n",
              " 540,\n",
              " 541,\n",
              " 542,\n",
              " 543,\n",
              " 544,\n",
              " 545,\n",
              " 546,\n",
              " 547,\n",
              " 548,\n",
              " 549,\n",
              " 550,\n",
              " 551,\n",
              " 552,\n",
              " 553,\n",
              " 554,\n",
              " 555,\n",
              " 556,\n",
              " 557,\n",
              " 558,\n",
              " 559,\n",
              " 560,\n",
              " 561,\n",
              " 562,\n",
              " 563,\n",
              " 564,\n",
              " 565,\n",
              " 566,\n",
              " 567,\n",
              " 568,\n",
              " 569,\n",
              " 570,\n",
              " 571,\n",
              " 572,\n",
              " 573,\n",
              " 574,\n",
              " 575,\n",
              " 576,\n",
              " 577,\n",
              " 578,\n",
              " 579,\n",
              " 580,\n",
              " 581,\n",
              " 582,\n",
              " 583,\n",
              " 584,\n",
              " 585,\n",
              " 586,\n",
              " 587,\n",
              " 588,\n",
              " 589,\n",
              " 590,\n",
              " 591,\n",
              " 592,\n",
              " 593,\n",
              " 594,\n",
              " 595,\n",
              " 596,\n",
              " 597,\n",
              " 598,\n",
              " 599,\n",
              " 600,\n",
              " 601,\n",
              " 602,\n",
              " 603,\n",
              " 604,\n",
              " 605,\n",
              " 606,\n",
              " 607,\n",
              " 608,\n",
              " 609,\n",
              " 610,\n",
              " 611,\n",
              " 612,\n",
              " 613,\n",
              " 614,\n",
              " 615,\n",
              " 616,\n",
              " 617,\n",
              " 618,\n",
              " 619,\n",
              " 620,\n",
              " 621,\n",
              " 622,\n",
              " 623,\n",
              " 624,\n",
              " 625,\n",
              " 626,\n",
              " 627,\n",
              " 628,\n",
              " 629,\n",
              " 630,\n",
              " 631,\n",
              " 632,\n",
              " 633,\n",
              " 634,\n",
              " 635,\n",
              " 636,\n",
              " 637,\n",
              " 638,\n",
              " 639,\n",
              " 640,\n",
              " 641,\n",
              " 642,\n",
              " 643,\n",
              " 644,\n",
              " 645,\n",
              " 646,\n",
              " 647,\n",
              " 648,\n",
              " 649,\n",
              " 650,\n",
              " 651,\n",
              " 652,\n",
              " 653,\n",
              " 654,\n",
              " 655,\n",
              " 656,\n",
              " 657,\n",
              " 658,\n",
              " 659,\n",
              " 660,\n",
              " 661,\n",
              " 662,\n",
              " 663,\n",
              " 664,\n",
              " 665,\n",
              " 666,\n",
              " 667,\n",
              " 668,\n",
              " 669,\n",
              " 670,\n",
              " 671,\n",
              " 672,\n",
              " 673,\n",
              " 674,\n",
              " 675,\n",
              " 676,\n",
              " 677,\n",
              " 678,\n",
              " 679,\n",
              " 680,\n",
              " 681,\n",
              " 682,\n",
              " 683,\n",
              " 684,\n",
              " 685,\n",
              " 686,\n",
              " 687,\n",
              " 688,\n",
              " 689,\n",
              " 690,\n",
              " 691,\n",
              " 692,\n",
              " 693,\n",
              " 694,\n",
              " 695,\n",
              " 696,\n",
              " 697,\n",
              " 698,\n",
              " 699,\n",
              " 700,\n",
              " 701,\n",
              " 702,\n",
              " 703,\n",
              " 704,\n",
              " 705,\n",
              " 706,\n",
              " 707,\n",
              " 708,\n",
              " 709,\n",
              " 710,\n",
              " 711,\n",
              " 712,\n",
              " 713,\n",
              " 714,\n",
              " 715,\n",
              " 716,\n",
              " 717,\n",
              " 718,\n",
              " 719,\n",
              " 720,\n",
              " 721,\n",
              " 722,\n",
              " 723,\n",
              " 724,\n",
              " 725,\n",
              " 726,\n",
              " 727,\n",
              " 728,\n",
              " 729,\n",
              " 730,\n",
              " 731,\n",
              " 732,\n",
              " 733,\n",
              " 734,\n",
              " 735,\n",
              " 736,\n",
              " 737,\n",
              " 738,\n",
              " 739,\n",
              " 740,\n",
              " 741,\n",
              " 742,\n",
              " 743,\n",
              " 744,\n",
              " 745,\n",
              " 746,\n",
              " 747,\n",
              " 748,\n",
              " 749,\n",
              " 750,\n",
              " 751,\n",
              " 752,\n",
              " 753,\n",
              " 754,\n",
              " 755,\n",
              " 756,\n",
              " 757,\n",
              " 758,\n",
              " 759,\n",
              " 760,\n",
              " 761,\n",
              " 762,\n",
              " 763,\n",
              " 764,\n",
              " 765,\n",
              " 766,\n",
              " 767,\n",
              " 768,\n",
              " 769,\n",
              " 770,\n",
              " 771,\n",
              " 772,\n",
              " 773,\n",
              " 774,\n",
              " 775,\n",
              " 776,\n",
              " 777,\n",
              " 778,\n",
              " 779,\n",
              " 780,\n",
              " 781,\n",
              " 782,\n",
              " 783,\n",
              " 784,\n",
              " 785,\n",
              " 786,\n",
              " 787,\n",
              " 788,\n",
              " 789,\n",
              " 790,\n",
              " 791,\n",
              " 792,\n",
              " 793,\n",
              " 794,\n",
              " 795,\n",
              " 796,\n",
              " 797,\n",
              " 798,\n",
              " 799,\n",
              " 800,\n",
              " 801,\n",
              " 802,\n",
              " 803,\n",
              " 804,\n",
              " 805,\n",
              " 806,\n",
              " 807,\n",
              " 808,\n",
              " 809,\n",
              " 810,\n",
              " 811,\n",
              " 812,\n",
              " 813,\n",
              " 814,\n",
              " 815,\n",
              " 816,\n",
              " 817,\n",
              " 818,\n",
              " 819,\n",
              " 820,\n",
              " 821,\n",
              " 822,\n",
              " 823,\n",
              " 824,\n",
              " 825,\n",
              " 826,\n",
              " 827,\n",
              " 828,\n",
              " 829,\n",
              " 830,\n",
              " 831,\n",
              " 832,\n",
              " 833,\n",
              " 834,\n",
              " 835,\n",
              " 836,\n",
              " 837,\n",
              " 838,\n",
              " 839,\n",
              " 840,\n",
              " 841,\n",
              " 842,\n",
              " 843,\n",
              " 844,\n",
              " 845,\n",
              " 846,\n",
              " 847,\n",
              " 848,\n",
              " 849,\n",
              " 850,\n",
              " 851,\n",
              " 852,\n",
              " 853,\n",
              " 854,\n",
              " 855,\n",
              " 856,\n",
              " 857,\n",
              " 858,\n",
              " 859,\n",
              " 860,\n",
              " 861,\n",
              " 862,\n",
              " 863,\n",
              " 864,\n",
              " 865,\n",
              " 866,\n",
              " 867,\n",
              " 868,\n",
              " 869,\n",
              " 870,\n",
              " 871,\n",
              " 872,\n",
              " 873,\n",
              " 874,\n",
              " 875,\n",
              " 876,\n",
              " 877,\n",
              " 878,\n",
              " 879,\n",
              " 880,\n",
              " 881,\n",
              " 882,\n",
              " 883,\n",
              " 884,\n",
              " 885,\n",
              " 886,\n",
              " 887,\n",
              " 888,\n",
              " 889,\n",
              " 890,\n",
              " 891,\n",
              " 892,\n",
              " 893,\n",
              " 894,\n",
              " 895,\n",
              " 896,\n",
              " 897,\n",
              " 898,\n",
              " 899,\n",
              " 900,\n",
              " 901,\n",
              " 902,\n",
              " 903,\n",
              " 904,\n",
              " 905,\n",
              " 906,\n",
              " 907,\n",
              " 908,\n",
              " 909,\n",
              " 910,\n",
              " 911,\n",
              " 912,\n",
              " 913,\n",
              " 914,\n",
              " 915,\n",
              " 916,\n",
              " 917,\n",
              " 918,\n",
              " 919,\n",
              " 920,\n",
              " 921,\n",
              " 922,\n",
              " 923,\n",
              " 924,\n",
              " 925,\n",
              " 926,\n",
              " 927,\n",
              " 928,\n",
              " 929,\n",
              " 930,\n",
              " 931,\n",
              " 932,\n",
              " 933,\n",
              " 934,\n",
              " 935,\n",
              " 936,\n",
              " 937,\n",
              " 938,\n",
              " 939,\n",
              " 940,\n",
              " 941,\n",
              " 942,\n",
              " 943,\n",
              " 944,\n",
              " 945,\n",
              " 946,\n",
              " 947,\n",
              " 948,\n",
              " 949,\n",
              " 950,\n",
              " 951,\n",
              " 952,\n",
              " 953,\n",
              " 954,\n",
              " 955,\n",
              " 956,\n",
              " 957,\n",
              " 958,\n",
              " 959,\n",
              " 960,\n",
              " 961,\n",
              " 962,\n",
              " 963,\n",
              " 964,\n",
              " 965,\n",
              " 966,\n",
              " 967,\n",
              " 968,\n",
              " 969,\n",
              " 970,\n",
              " 971,\n",
              " 972,\n",
              " 973,\n",
              " 974,\n",
              " 975,\n",
              " 976,\n",
              " 977,\n",
              " 978,\n",
              " 979,\n",
              " 980,\n",
              " 981,\n",
              " 982,\n",
              " 983,\n",
              " 984,\n",
              " 985,\n",
              " 986,\n",
              " 987,\n",
              " 988,\n",
              " 989,\n",
              " 990,\n",
              " 991,\n",
              " 992,\n",
              " 993,\n",
              " 994,\n",
              " 995,\n",
              " 996,\n",
              " 997,\n",
              " 998,\n",
              " 999,\n",
              " ...]"
            ]
          },
          "execution_count": 6,
          "metadata": {},
          "output_type": "execute_result"
        }
      ],
      "source": [
        "from memory_profiler import profile\n",
        "\n",
        "@profile\n",
        "def small_program():\n",
        "    x = [i for i in range(1000000)]\n",
        "    y = [j * 2 for j in range(1000000)]\n",
        "    del y\n",
        "    return x\n",
        "\n",
        "small_program()"
      ]
    },
    {
      "cell_type": "markdown",
      "metadata": {
        "id": "385173c0"
      },
      "source": [
        "#### **17. Write a Python program to create and write a list of numbers to a file, one number per line**"
      ]
    },
    {
      "cell_type": "code",
      "execution_count": 12,
      "metadata": {},
      "outputs": [],
      "source": [
        "def Numbers(lst):\n",
        "    with open(\"numbers.txt\", \"w\") as n:\n",
        "        for number in lst:\n",
        "            n.write(str(number) + '\\n')"
      ]
    },
    {
      "cell_type": "code",
      "execution_count": 13,
      "metadata": {},
      "outputs": [],
      "source": [
        "Numbers([10, 20, 30, 40, 50])"
      ]
    },
    {
      "cell_type": "code",
      "execution_count": 14,
      "metadata": {},
      "outputs": [
        {
          "name": "stdout",
          "output_type": "stream",
          "text": [
            "Content of numbers.txt:\n",
            "10\n",
            "20\n",
            "30\n",
            "40\n",
            "50\n",
            "\n"
          ]
        }
      ],
      "source": [
        "with open(\"numbers.txt\", \"r\") as f:\n",
        "    content = f.read()\n",
        "    print(\"Content of numbers.txt:\")\n",
        "    print(content)"
      ]
    },
    {
      "cell_type": "markdown",
      "metadata": {
        "id": "f66d2abe"
      },
      "source": [
        "#### **18. How would you implement a basic logging setup that logs to a file with rotation after 1MB**"
      ]
    },
    {
      "cell_type": "code",
      "execution_count": 7,
      "metadata": {},
      "outputs": [],
      "source": [
        "import logging\n",
        "from logging.handlers import RotatingFileHandler\n",
        "\n",
        "logger = logging.getLogger(\"rotating_logger\")\n",
        "logger.setLevel(logging.INFO)\n",
        "\n",
        "handler = RotatingFileHandler(\"rotating_log.log\", maxBytes=1_048_576, backupCount=3)\n",
        "formatter = logging.Formatter('%(asctime)s, %(levelname)s : %(message)s')\n",
        "handler.setFormatter(formatter)\n",
        "logger.addHandler(handler)\n",
        "\n",
        "logger.info(\"This is an info message with log rotation enabled.\")"
      ]
    },
    {
      "cell_type": "markdown",
      "metadata": {
        "id": "f204c12e"
      },
      "source": [
        "#### **19. Write a program that handles both IndexError and KeyError using a try-except block**"
      ]
    },
    {
      "cell_type": "code",
      "execution_count": 21,
      "metadata": {},
      "outputs": [
        {
          "name": "stdout",
          "output_type": "stream",
          "text": [
            "Value from list (key 'list_data') at index 0: 1\n",
            "Value from dictionary with key 'dict_data': {'a': 1, 'b': 2}\n",
            "Error: Invalid index 5 for the list with key 'list_data'.\n",
            "Error: Invalid key for the dictionary. Either 'list_data' or 'c' is not found.\n",
            "Error: Invalid key for the dictionary. Either 'list_data_nonexistent' or 'dict_data' is not found.\n"
          ]
        }
      ],
      "source": [
        "def handle_errors(data, list_key, index, dict_key):\n",
        "    try:\n",
        "        value_list = data[list_key][index]\n",
        "        value_dict = data[dict_key]\n",
        "        print(f\"Value from list (key '{list_key}') at index {index}: {value_list}\")\n",
        "        print(f\"Value from dictionary with key '{dict_key}': {value_dict}\")\n",
        "    except IndexError:\n",
        "        print(f\"Error: Invalid index {index} for the list with key '{list_key}'.\")\n",
        "    except KeyError:\n",
        "        print(f\"Error: Invalid key for the dictionary. Either '{list_key}' or '{dict_key}' is not found.\")\n",
        "    except Exception as e:\n",
        "        print(f\"An unexpected error occurred: {e}\")\n",
        "\n",
        "# Example usage:\n",
        "my_data = {\"list_data\": [1, 2, 3], \"dict_data\": {\"a\": 1, \"b\": 2}}\n",
        "\n",
        "# Valid access\n",
        "handle_errors(my_data, \"list_data\", 0, \"dict_data\")\n",
        "\n",
        "# IndexError\n",
        "handle_errors(my_data, \"list_data\", 5, \"dict_data\")\n",
        "\n",
        "# KeyError for dict_key\n",
        "handle_errors(my_data, \"list_data\", 0, \"c\")\n",
        "\n",
        "# KeyError for list_key\n",
        "handle_errors(my_data, \"list_data_nonexistent\", 0, \"dict_data\")"
      ]
    },
    {
      "cell_type": "markdown",
      "metadata": {
        "id": "76e4ace6"
      },
      "source": [
        "#### **20. How would you open a file and read its contents using a context manager in Python**"
      ]
    },
    {
      "cell_type": "code",
      "execution_count": 8,
      "metadata": {},
      "outputs": [
        {
          "name": "stdout",
          "output_type": "stream",
          "text": [
            "Hello World \n",
            "This is PW skills assignment \n",
            "Practical questions \n",
            "\n"
          ]
        }
      ],
      "source": [
        "with open(\"file.txt\", \"r\") as f:\n",
        "    contents = f.read()\n",
        "    print(contents)"
      ]
    },
    {
      "cell_type": "markdown",
      "metadata": {
        "id": "bb75bace"
      },
      "source": [
        "#### **21. Write a Python program that reads a file and prints the number of occurrences of a specific word**"
      ]
    },
    {
      "cell_type": "code",
      "execution_count": 10,
      "metadata": {},
      "outputs": [
        {
          "name": "stdout",
          "output_type": "stream",
          "text": [
            "The word 'test' appears 5 times in 'word_count_test.txt'.\n",
            "The word 'nonexistent' appears 0 times in 'word_count_test.txt'.\n"
          ]
        },
        {
          "data": {
            "text/plain": [
              "0"
            ]
          },
          "execution_count": 10,
          "metadata": {},
          "output_type": "execute_result"
        }
      ],
      "source": [
        "import re\n",
        "import os,sys\n",
        "from os.path import exists, dirname, abspath, join\n",
        "\n",
        "# Create a dummy file for demonstration\n",
        "try:\n",
        "    with open(\"word_count_test.txt\", \"w\") as f:\n",
        "        f.write(\"This is a test file. Test test test.\\n\")\n",
        "        f.write(\"Another line with the word test.\")\n",
        "except IOError as e:\n",
        "    print(f\"Error creating dummy file: {e}\")\n",
        "\n",
        "dummhy_file_path = abspath(join(\"word_count_test.txt\"))\n",
        "sys.path.insert(0, dummhy_file_path)\n",
        "\n",
        "def count_word_occurrences(file_path, word):\n",
        "    count = 0\n",
        "    try:\n",
        "        with open(file_path, 'r') as f:\n",
        "            content = f.read()\n",
        "            # Use re.findall for case-insensitive word counting\n",
        "            occurrences = re.findall(r'\\b' + re.escape(word) + r'\\b', content, re.IGNORECASE)\n",
        "            count = len(occurrences)\n",
        "        print(f\"The word '{word}' appears {count} times in '{file_path}'.\")\n",
        "    except FileNotFoundError:\n",
        "        print(f\"Error: The file '{file_path}' was not found.\")\n",
        "    except IOError as e:\n",
        "        print(f\"Error reading file: {e}\")\n",
        "    return count\n",
        "\n",
        "count_word_occurrences(\"word_count_test.txt\", \"test\")\n",
        "count_word_occurrences(\"word_count_test.txt\", \"nonexistent\")\n",
        "\n"
      ]
    },
    {
      "cell_type": "markdown",
      "metadata": {
        "id": "79bb93c5"
      },
      "source": [
        "#### **22. How can you check if a file is empty before attempting to read its contents**"
      ]
    },
    {
      "cell_type": "code",
      "execution_count": 29,
      "metadata": {},
      "outputs": [],
      "source": [
        "def check_if_content_exists(file):\n",
        "    import os,sys\n",
        "    from os.path import exists, dirname, abspath, join\n",
        "    file_path = abspath(join(file))\n",
        "    sys.path.insert(0, file_path)\n",
        "\n",
        "    if os.path.exists(file_path):\n",
        "        print(f\"The file '{file_path}' exists. Proceeding to read.\")\n",
        "        try:\n",
        "            if os.path.getsize(file_path) == 0:\n",
        "                print(f\"The file '{file_path}' is empty.\")\n",
        "            else:\n",
        "                with open(file_path, 'r') as f:\n",
        "                    content = f.read()\n",
        "                    print(\"File content:\")\n",
        "                    print(content)\n",
        "        except Exception as e:\n",
        "            print(f\"An error occurred while reading the file: {e}\")\n",
        "    else:\n",
        "        print(f\"The file '{file_path}' does not exist. Cannot read.\")"
      ]
    },
    {
      "cell_type": "code",
      "execution_count": 30,
      "metadata": {},
      "outputs": [
        {
          "name": "stdout",
          "output_type": "stream",
          "text": [
            "The file 'e:\\VSD codes\\python\\PW skills - DS and Gen AI\\Files, exceptional handling, logging\\Assignment 1\\word_count_test.txt' exists. Proceeding to read.\n",
            "File content:\n",
            "This is a test file. Test test test.\n",
            "Another line with the word test.\n"
          ]
        }
      ],
      "source": [
        "check_if_content_exists(\"word_count_test.txt\")"
      ]
    },
    {
      "cell_type": "markdown",
      "metadata": {
        "id": "ff4a2807"
      },
      "source": [
        "#### **23. Write a Python program that writes to a log file when an error occurs during file handling**"
      ]
    },
    {
      "cell_type": "code",
      "execution_count": 2,
      "metadata": {
        "id": "mGtJTqr4p7a9"
      },
      "outputs": [],
      "source": [
        "import logging\n",
        "logging.basicConfig(filename = 'Filehandling.log', level = logging.INFO, format = '%(asctime)s, %(levelname)s : %(message)s')\n",
        "\n",
        "def check_if_content_exists_1(file):\n",
        "    import os,sys\n",
        "    from os.path import exists, dirname, abspath, join\n",
        "    file_path = abspath(join(file))\n",
        "    sys.path.insert(0, file_path)\n",
        "\n",
        "    if os.path.exists(file_path):\n",
        "        print(f\"The file '{file_path}' exists. Proceeding to read.\")\n",
        "        try:\n",
        "            if os.path.getsize(file_path) == 0:\n",
        "                print(f\"The file '{file_path}' is empty.\")\n",
        "            else:\n",
        "                with open(file_path, 'r') as f:\n",
        "                    content = f.read()\n",
        "                    print(\"File content:\")\n",
        "                    print(content)\n",
        "        except Exception as e:\n",
        "            print(f\"An error occurred while reading the file: {e}\")\n",
        "            logging.error(f\"Error reading file: {e}\")\n",
        "    else:\n",
        "        print(f\"The file '{file_path}' does not exist. Cannot read.\")\n",
        "        logging.error(f\"The file '{file_path}' does not exist. Cannot read.\")"
      ]
    },
    {
      "cell_type": "code",
      "execution_count": 3,
      "metadata": {},
      "outputs": [
        {
          "name": "stdout",
          "output_type": "stream",
          "text": [
            "The file 'e:\\VSD codes\\python\\PW skills - DS and Gen AI\\Files, exceptional handling, logging\\Assignment 1\\file24.txt' does not exist. Cannot read.\n"
          ]
        }
      ],
      "source": [
        "check_if_content_exists_1(\"file24.txt\")"
      ]
    }
  ],
  "metadata": {
    "colab": {
      "collapsed_sections": [
        "-NR6z7ugwxfw"
      ],
      "provenance": []
    },
    "kernelspec": {
      "display_name": "Python 3",
      "name": "python3"
    },
    "language_info": {
      "codemirror_mode": {
        "name": "ipython",
        "version": 3
      },
      "file_extension": ".py",
      "mimetype": "text/x-python",
      "name": "python",
      "nbconvert_exporter": "python",
      "pygments_lexer": "ipython3",
      "version": "3.13.5"
    }
  },
  "nbformat": 4,
  "nbformat_minor": 0
}
